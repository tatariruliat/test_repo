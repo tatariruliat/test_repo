{
 "cells": [
  {
   "cell_type": "markdown",
   "id": "003b7666-c714-4f22-b476-6e37e0a4dd47",
   "metadata": {},
   "source": [
    "## Итог обсуждения 2024-01-03:\n",
    "\n",
    "Присутствовали: Саша, Пушинка, Лиза. \n",
    "\n",
    "### Договорились и Порешали: \n",
    "\n",
    "1. На данный момент количество правильных ответов по математике ориентировочно составляет 36/100.\n",
    "2. Пока что есть время чтобы это исправить. \n",
    "3. Нужно надрачиваться на задачи ЕГЭ активнее:\n",
    "- 3.1 Решать пробники чаще (установить частоту).\n",
    "- 3.2 Добивать курсики, смотреть.\n",
    "- 3.3 Попробовать альтернативные форматы: олимпиады\n",
    "\n",
    "Стартовая ссылка (посмотреть решения прошлогодних заданий тут):\\\n",
    "https://olymp.hse.ru/mmo/tasks-math"
   ]
  },
  {
   "cell_type": "code",
   "execution_count": 3,
   "id": "b0153cda-3268-4947-bfd7-ab59ae2cb1be",
   "metadata": {
    "tags": []
   },
   "outputs": [
    {
     "data": {
      "text/plain": [
       "12"
      ]
     },
     "execution_count": 3,
     "metadata": {},
     "output_type": "execute_result"
    }
   ],
   "source": [
    "def my_sum(a, b):\n",
    "    c = a + b\n",
    "    return c\n",
    "\n",
    "my_sum(1,11)"
   ]
  },
  {
   "cell_type": "markdown",
   "id": "bd849e34-b614-4b0c-b0e5-e316448f3220",
   "metadata": {
    "tags": []
   },
   "source": [
    "Также тут в markdows-ячейках можно записывать формулы на языке LaTeX. Вот так: \n",
    "\n",
    "$\\sum a = b$\n",
    "\n",
    "Подробнее о том как это делать:\\\n",
    "https://teletype.in/@dt_analytic/a1Ti2mtYooK\n",
    "\n",
    "И вот тут символы:\\\n",
    "https://artofproblemsolving.com/wiki/index.php/LaTeX:Symbols"
   ]
  },
  {
   "cell_type": "code",
   "execution_count": null,
   "id": "bb5fd226-f9cb-428b-8a9d-6e84aaa2c222",
   "metadata": {},
   "outputs": [],
   "source": []
  },
  {
   "cell_type": "code",
   "execution_count": null,
   "id": "c21d3bbb-b47c-45ef-be59-64031858994e",
   "metadata": {},
   "outputs": [],
   "source": []
  },
  {
   "cell_type": "code",
   "execution_count": null,
   "id": "5bd12da7-1be7-48c4-8da5-25a4a05391ef",
   "metadata": {},
   "outputs": [],
   "source": []
  },
  {
   "cell_type": "code",
   "execution_count": null,
   "id": "aacab415-a528-410f-af05-42f027def883",
   "metadata": {},
   "outputs": [],
   "source": []
  },
  {
   "cell_type": "code",
   "execution_count": null,
   "id": "1eb4d1d5-8fb5-4ec5-830d-5160202775ff",
   "metadata": {},
   "outputs": [],
   "source": []
  },
  {
   "cell_type": "markdown",
   "id": "73096a3f-8f2b-4381-889e-bf2c19057bf2",
   "metadata": {
    "tags": []
   },
   "source": [
    "## example of picture embedding\n",
    "\n",
    "![tit](math/pic_png.png)\n"
   ]
  },
  {
   "cell_type": "markdown",
   "id": "9f7ee72a-40ca-4e12-a782-0325376b4d98",
   "metadata": {
    "tags": []
   },
   "source": [
    "## example of picture embedding respecting size\n",
    "\n",
    "<div>\n",
    "<img src=\"math/pic_png.png\" width=\"700\"/>\n",
    "</div>"
   ]
  },
  {
   "cell_type": "code",
   "execution_count": null,
   "id": "ca3af15e-92dc-4090-a8e5-f88d3a4daffe",
   "metadata": {},
   "outputs": [],
   "source": []
  }
 ],
 "metadata": {
  "kernelspec": {
   "display_name": "Python 3 (ipykernel)",
   "language": "python",
   "name": "python3"
  },
  "language_info": {
   "codemirror_mode": {
    "name": "ipython",
    "version": 3
   },
   "file_extension": ".py",
   "mimetype": "text/x-python",
   "name": "python",
   "nbconvert_exporter": "python",
   "pygments_lexer": "ipython3",
   "version": "3.11.5"
  }
 },
 "nbformat": 4,
 "nbformat_minor": 5
}
